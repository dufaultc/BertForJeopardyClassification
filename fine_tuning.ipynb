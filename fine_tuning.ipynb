{
 "cells": [
  {
   "cell_type": "code",
   "execution_count": 44,
   "metadata": {},
   "outputs": [],
   "source": [
    "from transformers import BertTokenizer, BertModel, BertConfig, BertForSequenceClassification, glue_convert_examples_to_features, InputExample, InputFeatures, TrainingArguments, Trainer, DefaultDataCollator\n",
    "from torch.utils.data.dataset import Dataset\n",
    "import json"
   ]
  },
  {
   "cell_type": "code",
   "execution_count": 13,
   "metadata": {},
   "outputs": [],
   "source": [
    "with open('JEOPARDY_QUESTIONS1.json') as f:\n",
    "    data = json.load(f)"
   ]
  },
  {
   "cell_type": "code",
   "execution_count": 37,
   "metadata": {},
   "outputs": [],
   "source": [
    "loadconfig = BertConfig.from_pretrained('bert-base-uncased', num_labels = 3, finetuning_task ='text-classification')"
   ]
  },
  {
   "cell_type": "code",
   "execution_count": 39,
   "metadata": {},
   "outputs": [],
   "source": [
    "tokenizer = BertTokenizer.from_pretrained('bert-base-uncased')"
   ]
  },
  {
   "cell_type": "code",
   "execution_count": 45,
   "metadata": {},
   "outputs": [],
   "source": [
    "model = BertForSequenceClassification.from_pretrained('bert-base-uncased', config = loadconfig)"
   ]
  },
  {
   "cell_type": "code",
   "execution_count": 40,
   "metadata": {},
   "outputs": [],
   "source": [
    "class CustomDataset(Dataset):\n",
    "    def __init__(self, tokenizer, question_list, block_size: int):     \n",
    "        real_examples = []\n",
    "        i = 0\n",
    "        self.labels = []\n",
    "        for question in question_list:\n",
    "            if question['round'] == 'Jeopardy!':\n",
    "                self.labels.append(0)\n",
    "            elif question['round'] == 'Double Jeopardy!':\n",
    "                self.labels.append(1)                \n",
    "            else:\n",
    "                self.labels.append(2)\n",
    "            real_examples.append(InputExample(guid = i, text_a = question['question'], label = self.labels[i]))\n",
    "            i=i+1\n",
    "        self.features = glue_convert_examples_to_features(examples = real_examples, tokenizer = tokenizer, max_length = 200, label_list = [0,1,2], output_mode = 'classification')\n",
    "    def __len__(self):\n",
    "        return len(self.labels)\n",
    "    def __getitem__(self, index) -> InputFeatures:\n",
    "        return self.features[index]\n",
    "    "
   ]
  },
  {
   "cell_type": "code",
   "execution_count": 41,
   "metadata": {},
   "outputs": [],
   "source": [
    "train_dataset = CustomDataset(\n",
    "    tokenizer=tokenizer,\n",
    "    question_list=data,\n",
    "    block_size = 2004\n",
    ")"
   ]
  },
  {
   "cell_type": "code",
   "execution_count": null,
   "metadata": {},
   "outputs": [],
   "source": [
    "training_args = TrainingArguments(\n",
    "    output_dir=\"./Models/JeopardyFineTuning\",\n",
    "    overwrite_output_dir=True,\n",
    "    num_train_epochs=2,\n",
    "    per_gpu_train_batch_size=8,\n",
    "    save_steps=50,\n",
    "    save_total_limit=2,\n",
    "    do_train = True,\n",
    ")\n",
    "\n",
    "trainerfine = Trainer(\n",
    "    model=model,\n",
    "    args=training_args,\n",
    "    train_dataset=train_dataset,\n",
    "    data_collator = DefaultDataCollator()\n",
    ")\n",
    "\n",
    "trainerfine.train()"
   ]
  },
  {
   "cell_type": "code",
   "execution_count": null,
   "metadata": {},
   "outputs": [],
   "source": []
  }
 ],
 "metadata": {
  "kernelspec": {
   "display_name": "cameronenv",
   "language": "python",
   "name": "cameronenv"
  },
  "language_info": {
   "codemirror_mode": {
    "name": "ipython",
    "version": 3
   },
   "file_extension": ".py",
   "mimetype": "text/x-python",
   "name": "python",
   "nbconvert_exporter": "python",
   "pygments_lexer": "ipython3",
   "version": "3.8.2"
  }
 },
 "nbformat": 4,
 "nbformat_minor": 4
}
